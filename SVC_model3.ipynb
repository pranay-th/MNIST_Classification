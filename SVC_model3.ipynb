{
  "nbformat": 4,
  "nbformat_minor": 0,
  "metadata": {
    "colab": {
      "provenance": [],
      "authorship_tag": "ABX9TyM4Hk305JOHpkaHgRJyvTxi",
      "include_colab_link": true
    },
    "kernelspec": {
      "name": "python3",
      "display_name": "Python 3"
    },
    "language_info": {
      "name": "python"
    }
  },
  "cells": [
    {
      "cell_type": "markdown",
      "metadata": {
        "id": "view-in-github",
        "colab_type": "text"
      },
      "source": [
        "<a href=\"https://colab.research.google.com/github/pranay-th/MNIST_Classification/blob/main/SVC_model3.ipynb\" target=\"_parent\"><img src=\"https://colab.research.google.com/assets/colab-badge.svg\" alt=\"Open In Colab\"/></a>"
      ]
    },
    {
      "cell_type": "code",
      "execution_count": 29,
      "metadata": {
        "colab": {
          "base_uri": "https://localhost:8080/"
        },
        "id": "XVzTgfQmsckE",
        "outputId": "1eaed7ef-4903-4b12-fa9c-1b7c52de3cda"
      },
      "outputs": [
        {
          "output_type": "stream",
          "name": "stdout",
          "text": [
            "1694345331.9254816\n"
          ]
        }
      ],
      "source": [
        "import math, time\n",
        "import matplotlib.pyplot as plt\n",
        "import numpy as np\n",
        "import pandas as pd\n",
        "import seaborn as sns\n",
        "from sklearn.metrics import accuracy_score, confusion_matrix, precision_score, recall_score, ConfusionMatrixDisplay\n",
        "from sklearn.model_selection import GridSearchCV, train_test_split\n",
        "from sklearn.preprocessing import StandardScaler\n",
        "from sklearn.pipeline import Pipeline\n",
        "from sklearn.svm import SVC\n",
        "start = time.time()\n",
        "MNIST_train_df = pd.read_csv('/content/mnist_train.csv', sep=',', index_col=0)\n",
        "MNIST_train_df.shape\n",
        "print(start)"
      ]
    },
    {
      "cell_type": "code",
      "source": [
        "#sns.countplot(MNIST_train_df['label'])\n",
        "#plt.show()\n",
        "\n",
        "#print MNIST_train_df['label'].value_counts()"
      ],
      "metadata": {
        "id": "ESnrsZcnss7T"
      },
      "execution_count": 30,
      "outputs": []
    },
    {
      "cell_type": "code",
      "source": [
        "X_tr = MNIST_train_df.iloc[:,1:]\n",
        "y_tr = MNIST_train_df.iloc[:, 0]\n",
        "\n",
        "X_train, X_test, y_train, y_test = train_test_split(X_tr,y_tr,test_size=0.2, random_state=30, stratify=y_tr)"
      ],
      "metadata": {
        "id": "HdxQ_umltnPn"
      },
      "execution_count": 31,
      "outputs": []
    },
    {
      "cell_type": "code",
      "source": [
        "steps = [('scaler', StandardScaler()), ('SVM', SVC(kernel='poly'))]\n",
        "pipeline = Pipeline(steps)"
      ],
      "metadata": {
        "id": "VO2uD_V5t4dW"
      },
      "execution_count": 32,
      "outputs": []
    },
    {
      "cell_type": "code",
      "source": [
        "parameters = {'SVM__C':[0.001, 0.1, 100, 10e5], 'SVM__gamma':[10,1,0.1,0.01]}\n",
        "grid = GridSearchCV(pipeline, param_grid=parameters, cv=5)"
      ],
      "metadata": {
        "id": "9_6kpWXouAe5"
      },
      "execution_count": 33,
      "outputs": []
    },
    {
      "cell_type": "code",
      "source": [
        "grid.fit(X_train, y_train)\n",
        "print(\"score = %3.2f\" %(grid.score(X_test, y_test)))\n",
        "print(\"best parameters from train data: \", grid.best_params_)"
      ],
      "metadata": {
        "id": "IwRDDbjMuK4L"
      },
      "execution_count": null,
      "outputs": []
    },
    {
      "cell_type": "code",
      "source": [
        "y_pred = grid.predict(X_test)"
      ],
      "metadata": {
        "id": "_o7Si-sauZKa"
      },
      "execution_count": null,
      "outputs": []
    },
    {
      "cell_type": "code",
      "source": [
        "for i in (np.random.randint(0,270,6)):\n",
        " two_d = (np.reshape(X_test.values[i], (28, 28)) * 255).astype(np.uint8)\n",
        " plt.title('predicted label: {0}'. format(y_pred[i]))\n",
        " plt.imshow(two_d, interpolation='nearest', cmap='gray')\n",
        " plt.show()"
      ],
      "metadata": {
        "id": "VnIvdBnwugnw"
      },
      "execution_count": null,
      "outputs": []
    },
    {
      "cell_type": "code",
      "source": [
        "print(\"confusion matrix: \\n \", confusion_matrix(y_test, y_pred))"
      ],
      "metadata": {
        "id": "MEO_uIqDupbD"
      },
      "execution_count": null,
      "outputs": []
    }
  ]
}